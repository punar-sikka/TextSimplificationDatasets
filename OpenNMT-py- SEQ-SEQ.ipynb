{
  "nbformat": 4,
  "nbformat_minor": 0,
  "metadata": {
    "accelerator": "GPU",
    "colab": {
      "name": "OpenNMT-py- SEQ-SEQ.ipynb",
      "provenance": [],
      "collapsed_sections": []
    },
    "kernelspec": {
      "display_name": "Python 3",
      "name": "python3"
    }
  },
  "cells": [
    {
      "cell_type": "code",
      "metadata": {
        "id": "oVVUxWeRDr9Z",
        "colab": {
          "base_uri": "https://localhost:8080/"
        },
        "outputId": "6bc31ef0-1783-4d9e-bc27-03a07e5f2db2"
      },
      "source": [
        "from google.colab import drive\n",
        "drive.mount('/content/drive')"
      ],
      "execution_count": 1,
      "outputs": [
        {
          "output_type": "stream",
          "text": [
            "Mounted at /content/drive\n"
          ],
          "name": "stdout"
        }
      ]
    },
    {
      "cell_type": "code",
      "metadata": {
        "colab": {
          "base_uri": "https://localhost:8080/"
        },
        "id": "9tdiqr-5MB3B",
        "outputId": "2c88d350-7402-4f59-9c23-4f846e8cb61c"
      },
      "source": [
        "cd /content/drive/MyDrive/Simplification/BenchmarkDatasets/OpenNMT-py-1.2.0"
      ],
      "execution_count": 2,
      "outputs": [
        {
          "output_type": "stream",
          "text": [
            "/content/drive/MyDrive/Simplification/BenchmarkDatasets/OpenNMT-py-1.2.0\n"
          ],
          "name": "stdout"
        }
      ]
    },
    {
      "cell_type": "code",
      "metadata": {
        "id": "x3rOIxr95zhF",
        "colab": {
          "base_uri": "https://localhost:8080/"
        },
        "outputId": "7283d795-b791-4159-985c-2a2e6e7457ca"
      },
      "source": [
        "!pip install -qq -e .\n",
        "!pip install -qq textstat\n",
        "!pip install -qq python-Levenshtein"
      ],
      "execution_count": 3,
      "outputs": [
        {
          "output_type": "stream",
          "text": [
            "\u001b[?25l\r\u001b[K     |██████▏                         | 10kB 25.0MB/s eta 0:00:01\r\u001b[K     |████████████▍                   | 20kB 14.0MB/s eta 0:00:01\r\u001b[K     |██████████████████▌             | 30kB 12.5MB/s eta 0:00:01\r\u001b[K     |████████████████████████▊       | 40kB 11.9MB/s eta 0:00:01\r\u001b[K     |██████████████████████████████▉ | 51kB 7.8MB/s eta 0:00:01\r\u001b[K     |████████████████████████████████| 61kB 5.4MB/s \n",
            "\u001b[K     |████████████████████████████████| 51kB 6.2MB/s \n",
            "\u001b[K     |████████████████████████████████| 61kB 5.1MB/s \n",
            "\u001b[K     |████████████████████████████████| 2.5MB 11.8MB/s \n",
            "\u001b[?25h  Building wheel for configargparse (setup.py) ... \u001b[?25l\u001b[?25hdone\n",
            "\u001b[K     |████████████████████████████████| 102kB 6.0MB/s \n",
            "\u001b[K     |████████████████████████████████| 1.9MB 8.0MB/s \n",
            "\u001b[K     |████████████████████████████████| 51kB 4.7MB/s \n",
            "\u001b[?25h  Building wheel for python-Levenshtein (setup.py) ... \u001b[?25l\u001b[?25hdone\n"
          ],
          "name": "stdout"
        }
      ]
    },
    {
      "cell_type": "code",
      "metadata": {
        "id": "xSHDf_s6Dzl0"
      },
      "source": [
        "#fixed paths\r\n",
        "save_data_path = '/content/drive/MyDrive/Simplification/BenchmarkDatasets/TmpData/seq_data'\r\n",
        "model_save_path = '/content/drive/MyDrive/Simplification/BenchmarkDatasets/Models/seq2seq'\r\n",
        "\r\n",
        "NisioiTest_orig_path = '/content/drive/MyDrive/Simplification/BenchmarkDatasets/test/NisioiTest.orig'\r\n",
        "NisioiTest_refs_path = '/content/drive/MyDrive/Simplification/BenchmarkDatasets/test/Nisioi_refs.tsv'\r\n",
        "NisioiTest_pred_path = '/content/drive/MyDrive/Simplification/BenchmarkDatasets/TmpData/Nisioi_pred.txt'\r\n",
        "\r\n",
        "AssetTest_orig_path = '/content/drive/MyDrive/Simplification/BenchmarkDatasets/test/AssetTest.orig'\r\n",
        "AssetTest_refs_path = '/content/drive/MyDrive/Simplification/BenchmarkDatasets/test/Asset_Refs.tsv'\r\n",
        "AssetTest_pred_path = '/content/drive/MyDrive/Simplification/BenchmarkDatasets/TmpData/Asset_pred.txt'\r\n",
        "\r\n",
        "EasseTest_orig_path = '/content/drive/MyDrive/Simplification/BenchmarkDatasets/test/EasseTest.orig'\r\n",
        "EasseTest_refs_path = '/content/drive/MyDrive/Simplification/BenchmarkDatasets/test/Easse_Refs.tsv'\r\n",
        "EasseTest_pred_path = '/content/drive/MyDrive/Simplification/BenchmarkDatasets/TmpData/Easse_pred.txt'"
      ],
      "execution_count": 7,
      "outputs": []
    },
    {
      "cell_type": "markdown",
      "metadata": {
        "id": "4XJgltp0FlPF"
      },
      "source": [
        "Edit these every training"
      ]
    },
    {
      "cell_type": "code",
      "metadata": {
        "id": "pzpsQXz8BpxE"
      },
      "source": [
        "train_src_path = '/content/drive/MyDrive/Simplification/BenchmarkDatasets/Train/NewWikiClean_src.txt'\r\n",
        "train_tgt_path = '/content/drive/MyDrive/Simplification/BenchmarkDatasets/Train/NewWikiClean_tgt.txt'\r\n",
        "val_src_path = '/content/drive/MyDrive/Simplification/BenchmarkDatasets/Val/NewWikiVal_src.txt'\r\n",
        "val_tgt_path = '/content/drive/MyDrive/Simplification/BenchmarkDatasets/Val/NewWikiVal_tgt.txt'"
      ],
      "execution_count": 22,
      "outputs": []
    },
    {
      "cell_type": "code",
      "metadata": {
        "id": "c9-u0NuJ7DRf",
        "colab": {
          "base_uri": "https://localhost:8080/"
        },
        "outputId": "f0211008-4c92-4333-e917-e20630a56309"
      },
      "source": [
        "!python  /content/drive/MyDrive/Simplification/BenchmarkDatasets/OpenNMT-py-1.2.0/preprocess.py \\\n",
        "-train_src $train_src_path \\\n",
        "-train_tgt $train_tgt_path  \\\n",
        "-valid_src $val_src_path \\\n",
        "-valid_tgt $val_tgt_path \\\n",
        "-share_vocab -save_data $save_data_path -overwrite"
      ],
      "execution_count": 23,
      "outputs": [
        {
          "output_type": "stream",
          "text": [
            "[2021-02-05 03:07:56,624 INFO] Extracting features...\n",
            "[2021-02-05 03:07:57,583 INFO]  * number of source features: 0.\n",
            "[2021-02-05 03:07:57,584 INFO]  * number of target features: 0.\n",
            "[2021-02-05 03:07:57,584 INFO] Building `Fields` object...\n",
            "[2021-02-05 03:07:57,584 INFO] Building & saving training data...\n",
            "[2021-02-05 03:07:57,588 WARNING] Shards for corpus train already exist, will be overwritten because `-overwrite` option is set.\n",
            "[2021-02-05 03:07:57,596 WARNING] Overwrite shards for corpus None\n",
            "[2021-02-05 03:07:59,785 INFO] Building shard 0.\n",
            "[2021-02-05 03:08:20,748 INFO]  * saving 0th train data shard to /content/drive/MyDrive/Simplification/BenchmarkDatasets/TmpData/seq_data.train.0.pt.\n",
            "[2021-02-05 03:08:39,553 INFO]  * tgt vocab size: 50004.\n",
            "[2021-02-05 03:08:39,965 INFO]  * src vocab size: 50002.\n",
            "[2021-02-05 03:08:39,965 INFO]  * merging src and tgt vocab...\n",
            "[2021-02-05 03:08:40,818 INFO]  * merged vocab size: 50004.\n",
            "[2021-02-05 03:08:41,586 INFO] Building & saving validation data...\n",
            "[2021-02-05 03:08:41,587 WARNING] Shards for corpus valid already exist, will be overwritten because `-overwrite` option is set.\n",
            "[2021-02-05 03:08:41,596 WARNING] Overwrite shards for corpus None\n",
            "[2021-02-05 03:08:43,083 INFO] Building shard 0.\n",
            "[2021-02-05 03:08:44,481 INFO]  * saving 0th valid data shard to /content/drive/MyDrive/Simplification/BenchmarkDatasets/TmpData/seq_data.valid.0.pt.\n"
          ],
          "name": "stdout"
        }
      ]
    },
    {
      "cell_type": "code",
      "metadata": {
        "id": "q_JZ0SNS8w_C",
        "colab": {
          "base_uri": "https://localhost:8080/"
        },
        "outputId": "4626cc91-3e61-42c7-86bc-55345bdad4c8"
      },
      "source": [
        "!python  /content/drive/MyDrive/Simplification/BenchmarkDatasets/OpenNMT-py-1.2.0/train.py \\\n",
        "-data $save_data_path \\\n",
        "-save_model $model_save_path  -gpu_ranks 0 \\\n",
        "-world_size 1 -train_steps 60000 \\\n",
        "-valid_steps 5000 -early_stopping 2 \\\n",
        "-max_grad_norm 5 -dropout 0.3 \\\n",
        "-feat_vec_size 20 -word_vec_size 500 -share_embeddings \\\n",
        "-share_decoder_embeddings -model_type text \\\n",
        "-encoder_type rnn -rnn_type LSTM -layers 2 \\\n",
        "-rnn_size 500 -global_attention general \\\n",
        "-learning_rate_decay 0.7 "
      ],
      "execution_count": null,
      "outputs": [
        {
          "output_type": "stream",
          "text": [
            "[2021-02-05 03:08:50,637 INFO]  * src vocab size = 50004\n",
            "[2021-02-05 03:08:50,637 INFO]  * tgt vocab size = 50004\n",
            "[2021-02-05 03:08:50,637 INFO] Building model...\n",
            "/content/drive/MyDrive/Simplification/BenchmarkDatasets/OpenNMT-py-1.2.0/onmt/modules/embeddings.py:218: UserWarning: Not merging with sum and positive feat_vec_size, but got non-default feat_vec_exponent. It will be unused.\n",
            "  warnings.warn(\"Not merging with sum and positive \"\n",
            "[2021-02-05 03:08:56,024 INFO] NMTModel(\n",
            "  (encoder): RNNEncoder(\n",
            "    (embeddings): Embeddings(\n",
            "      (make_embedding): Sequential(\n",
            "        (emb_luts): Elementwise(\n",
            "          (0): Embedding(50004, 500, padding_idx=1)\n",
            "        )\n",
            "      )\n",
            "    )\n",
            "    (rnn): LSTM(500, 500, num_layers=2, dropout=0.3)\n",
            "  )\n",
            "  (decoder): InputFeedRNNDecoder(\n",
            "    (embeddings): Embeddings(\n",
            "      (make_embedding): Sequential(\n",
            "        (emb_luts): Elementwise(\n",
            "          (0): Embedding(50004, 500, padding_idx=1)\n",
            "        )\n",
            "      )\n",
            "    )\n",
            "    (dropout): Dropout(p=0.3, inplace=False)\n",
            "    (rnn): StackedLSTM(\n",
            "      (dropout): Dropout(p=0.3, inplace=False)\n",
            "      (layers): ModuleList(\n",
            "        (0): LSTMCell(1000, 500)\n",
            "        (1): LSTMCell(500, 500)\n",
            "      )\n",
            "    )\n",
            "    (attn): GlobalAttention(\n",
            "      (linear_in): Linear(in_features=500, out_features=500, bias=False)\n",
            "      (linear_out): Linear(in_features=1000, out_features=500, bias=False)\n",
            "    )\n",
            "  )\n",
            "  (generator): Sequential(\n",
            "    (0): Linear(in_features=500, out_features=50004, bias=True)\n",
            "    (1): Cast()\n",
            "    (2): LogSoftmax(dim=-1)\n",
            "  )\n",
            ")\n",
            "[2021-02-05 03:08:56,025 INFO] encoder: 29010000\n",
            "[2021-02-05 03:08:56,025 INFO] decoder: 5808004\n",
            "[2021-02-05 03:08:56,025 INFO] * number of parameters: 34818004\n",
            "[2021-02-05 03:08:56,028 INFO] Starting training on GPU: [0]\n",
            "[2021-02-05 03:08:56,028 INFO] Start training loop and validate every 5000 steps...\n",
            "[2021-02-05 03:08:56,028 INFO] Loading dataset from /content/drive/MyDrive/Simplification/BenchmarkDatasets/TmpData/seq_data.train.0.pt\n",
            "[2021-02-05 03:09:08,959 INFO] number of examples: 455727\n",
            "[2021-02-05 03:09:16,915 INFO] Step 50/60000; acc:   4.40; ppl: 255046.83; xent: 12.45; lr: 1.00000; 3588/3206 tok/s;     21 sec\n",
            "[2021-02-05 03:09:23,130 INFO] Step 100/60000; acc:   4.93; ppl: 14943.84; xent: 9.61; lr: 1.00000; 12069/10828 tok/s;     27 sec\n",
            "[2021-02-05 03:09:29,554 INFO] Step 150/60000; acc:   5.20; ppl: 4423.67; xent: 8.39; lr: 1.00000; 12344/11028 tok/s;     34 sec\n",
            "[2021-02-05 03:09:35,117 INFO] Step 200/60000; acc:   5.77; ppl: 2379.82; xent: 7.77; lr: 1.00000; 14287/10681 tok/s;     39 sec\n",
            "[2021-02-05 03:09:41,644 INFO] Step 250/60000; acc:   6.27; ppl: 2042.34; xent: 7.62; lr: 1.00000; 11894/11044 tok/s;     46 sec\n",
            "[2021-02-05 03:09:47,806 INFO] Step 300/60000; acc:   9.02; ppl: 1895.69; xent: 7.55; lr: 1.00000; 11716/10825 tok/s;     52 sec\n",
            "[2021-02-05 03:09:53,782 INFO] Step 350/60000; acc:  10.28; ppl: 1189.44; xent: 7.08; lr: 1.00000; 12296/10736 tok/s;     58 sec\n",
            "[2021-02-05 03:10:00,498 INFO] Step 400/60000; acc:  11.59; ppl: 1025.65; xent: 6.93; lr: 1.00000; 12281/9949 tok/s;     64 sec\n",
            "[2021-02-05 03:10:07,010 INFO] Step 450/60000; acc:  12.64; ppl: 924.76; xent: 6.83; lr: 1.00000; 13020/10341 tok/s;     71 sec\n",
            "[2021-02-05 03:10:14,121 INFO] Step 500/60000; acc:  13.15; ppl: 817.75; xent: 6.71; lr: 1.00000; 11426/10408 tok/s;     78 sec\n",
            "[2021-02-05 03:10:21,316 INFO] Step 550/60000; acc:  14.67; ppl: 685.66; xent: 6.53; lr: 1.00000; 11993/10315 tok/s;     85 sec\n",
            "[2021-02-05 03:10:27,590 INFO] Step 600/60000; acc:  16.48; ppl: 566.57; xent: 6.34; lr: 1.00000; 12548/10196 tok/s;     92 sec\n",
            "[2021-02-05 03:10:34,678 INFO] Step 650/60000; acc:  15.91; ppl: 566.10; xent: 6.34; lr: 1.00000; 12061/9889 tok/s;     99 sec\n",
            "[2021-02-05 03:10:41,514 INFO] Step 700/60000; acc:  17.19; ppl: 484.14; xent: 6.18; lr: 1.00000; 12028/10015 tok/s;    105 sec\n",
            "[2021-02-05 03:10:47,900 INFO] Step 750/60000; acc:  19.72; ppl: 396.78; xent: 5.98; lr: 1.00000; 10794/10237 tok/s;    112 sec\n",
            "[2021-02-05 03:10:54,531 INFO] Step 800/60000; acc:  19.89; ppl: 402.92; xent: 6.00; lr: 1.00000; 12190/10049 tok/s;    119 sec\n",
            "[2021-02-05 03:11:01,342 INFO] Step 850/60000; acc:  20.00; ppl: 370.41; xent: 5.91; lr: 1.00000; 12010/10136 tok/s;    125 sec\n",
            "[2021-02-05 03:11:08,166 INFO] Step 900/60000; acc:  20.00; ppl: 347.41; xent: 5.85; lr: 1.00000; 11480/10267 tok/s;    132 sec\n",
            "[2021-02-05 03:11:14,577 INFO] Step 950/60000; acc:  22.48; ppl: 297.74; xent: 5.70; lr: 1.00000; 11779/10438 tok/s;    139 sec\n",
            "[2021-02-05 03:11:20,425 INFO] Step 1000/60000; acc:  23.63; ppl: 272.47; xent: 5.61; lr: 1.00000; 12999/9829 tok/s;    144 sec\n",
            "[2021-02-05 03:11:26,396 INFO] Step 1050/60000; acc:  24.21; ppl: 243.28; xent: 5.49; lr: 1.00000; 12518/10268 tok/s;    150 sec\n",
            "[2021-02-05 03:11:33,475 INFO] Step 1100/60000; acc:  22.42; ppl: 275.19; xent: 5.62; lr: 1.00000; 11365/10429 tok/s;    157 sec\n",
            "[2021-02-05 03:11:40,159 INFO] Step 1150/60000; acc:  24.33; ppl: 233.79; xent: 5.45; lr: 1.00000; 11558/10263 tok/s;    164 sec\n",
            "[2021-02-05 03:11:46,624 INFO] Step 1200/60000; acc:  25.02; ppl: 226.98; xent: 5.42; lr: 1.00000; 12858/10202 tok/s;    171 sec\n",
            "[2021-02-05 03:11:53,556 INFO] Step 1250/60000; acc:  25.22; ppl: 213.25; xent: 5.36; lr: 1.00000; 11977/10298 tok/s;    178 sec\n",
            "[2021-02-05 03:11:59,595 INFO] Step 1300/60000; acc:  26.31; ppl: 199.33; xent: 5.29; lr: 1.00000; 12347/10115 tok/s;    184 sec\n",
            "[2021-02-05 03:12:06,333 INFO] Step 1350/60000; acc:  27.14; ppl: 182.41; xent: 5.21; lr: 1.00000; 12329/9901 tok/s;    190 sec\n",
            "[2021-02-05 03:12:13,500 INFO] Step 1400/60000; acc:  26.82; ppl: 174.96; xent: 5.16; lr: 1.00000; 10162/9973 tok/s;    197 sec\n",
            "[2021-02-05 03:12:20,335 INFO] Step 1450/60000; acc:  27.78; ppl: 168.15; xent: 5.12; lr: 1.00000; 11780/10133 tok/s;    204 sec\n",
            "[2021-02-05 03:12:27,318 INFO] Step 1500/60000; acc:  29.52; ppl: 146.49; xent: 4.99; lr: 1.00000; 11353/10018 tok/s;    211 sec\n",
            "[2021-02-05 03:12:34,059 INFO] Step 1550/60000; acc:  30.61; ppl: 132.20; xent: 4.88; lr: 1.00000; 11860/10206 tok/s;    218 sec\n",
            "[2021-02-05 03:12:40,427 INFO] Step 1600/60000; acc:  32.21; ppl: 118.07; xent: 4.77; lr: 1.00000; 10816/9922 tok/s;    224 sec\n",
            "[2021-02-05 03:12:46,607 INFO] Step 1650/60000; acc:  33.63; ppl: 101.87; xent: 4.62; lr: 1.00000; 13557/10209 tok/s;    231 sec\n",
            "[2021-02-05 03:12:53,529 INFO] Step 1700/60000; acc:  34.75; ppl: 98.37; xent: 4.59; lr: 1.00000; 11105/10303 tok/s;    238 sec\n",
            "[2021-02-05 03:13:00,045 INFO] Step 1750/60000; acc:  36.15; ppl: 89.75; xent: 4.50; lr: 1.00000; 11953/10354 tok/s;    244 sec\n",
            "[2021-02-05 03:13:06,454 INFO] Step 1800/60000; acc:  36.55; ppl: 83.02; xent: 4.42; lr: 1.00000; 12724/10181 tok/s;    250 sec\n",
            "[2021-02-05 03:13:12,804 INFO] Step 1850/60000; acc:  39.65; ppl: 68.87; xent: 4.23; lr: 1.00000; 12697/9812 tok/s;    257 sec\n",
            "[2021-02-05 03:13:19,380 INFO] Step 1900/60000; acc:  40.02; ppl: 67.11; xent: 4.21; lr: 1.00000; 12370/10138 tok/s;    263 sec\n",
            "[2021-02-05 03:13:26,180 INFO] Step 1950/60000; acc:  41.47; ppl: 63.48; xent: 4.15; lr: 1.00000; 10909/10381 tok/s;    270 sec\n",
            "[2021-02-05 03:13:32,881 INFO] Step 2000/60000; acc:  42.29; ppl: 57.53; xent: 4.05; lr: 1.00000; 11871/10286 tok/s;    277 sec\n",
            "[2021-02-05 03:13:39,200 INFO] Step 2050/60000; acc:  43.69; ppl: 50.54; xent: 3.92; lr: 1.00000; 12480/10080 tok/s;    283 sec\n",
            "[2021-02-05 03:13:45,468 INFO] Step 2100/60000; acc:  42.54; ppl: 55.66; xent: 4.02; lr: 1.00000; 12293/10163 tok/s;    289 sec\n",
            "[2021-02-05 03:13:52,131 INFO] Step 2150/60000; acc:  44.40; ppl: 50.41; xent: 3.92; lr: 1.00000; 11218/10035 tok/s;    296 sec\n",
            "[2021-02-05 03:13:58,981 INFO] Step 2200/60000; acc:  42.03; ppl: 57.42; xent: 4.05; lr: 1.00000; 11642/10303 tok/s;    303 sec\n",
            "[2021-02-05 03:14:05,643 INFO] Step 2250/60000; acc:  46.74; ppl: 42.36; xent: 3.75; lr: 1.00000; 11278/10366 tok/s;    310 sec\n"
          ],
          "name": "stdout"
        }
      ]
    },
    {
      "cell_type": "markdown",
      "metadata": {
        "id": "9JGtVcZsGNDM"
      },
      "source": [
        "Edit after model has been trained"
      ]
    },
    {
      "cell_type": "code",
      "metadata": {
        "id": "oGGthbjmEW6z"
      },
      "source": [
        "#edit after model has been trained\r\n",
        "model_name_path = '/content/drive/MyDrive/Simplification/BenchmarkDatasets/Models/seq2seq_step_20000.pt'"
      ],
      "execution_count": 20,
      "outputs": []
    },
    {
      "cell_type": "code",
      "metadata": {
        "id": "OkikXnJVHvVt",
        "colab": {
          "base_uri": "https://localhost:8080/"
        },
        "outputId": "48ea1da1-0677-4bbf-db05-aad4204966d8"
      },
      "source": [
        "!python /content/drive/MyDrive/Simplification/BenchmarkDatasets/OpenNMT-py-1.2.0/translate.py \\\n",
        "-model $model_name_path \\\n",
        "-src $NisioiTest_orig_path \\\n",
        "-output $NisioiTest_pred_path \\\n",
        "-n_best 4 -beam_size 5 -replace_unk -gpu 0 \n",
        "\n",
        "!python /content/drive/MyDrive/Simplification/BenchmarkDatasets/evaluate.py  $NisioiTest_orig_path $NisioiTest_refs_path $NisioiTest_pred_path $4"
      ],
      "execution_count": 21,
      "outputs": [
        {
          "output_type": "stream",
          "text": [
            "/content/drive/MyDrive/Simplification/BenchmarkDatasets/OpenNMT-py-1.2.0/onmt/modules/embeddings.py:218: UserWarning: Not merging with sum and positive feat_vec_size, but got non-default feat_vec_exponent. It will be unused.\n",
            "  warnings.warn(\"Not merging with sum and positive \"\n",
            "[2021-02-05 03:06:56,381 INFO] Translating shard 0.\n",
            "/content/drive/MyDrive/Simplification/BenchmarkDatasets/OpenNMT-py-1.2.0/onmt/translate/beam_search.py:209: UserWarning: An output with one or more elements was resized since it had shape [150], which does not match the required output shape [30, 5].This behavior is deprecated, and in a future PyTorch release outputs will not be resized unless they have zero elements. You can explicitly reuse an out tensor t by resizing it, inplace, to zero elements with t.resize_(0). (Triggered internally at  /pytorch/aten/src/ATen/native/Resize.cpp:19.)\n",
            "  torch.mul(self.topk_scores, length_penalty, out=self.topk_log_probs)\n",
            "/content/drive/MyDrive/Simplification/BenchmarkDatasets/OpenNMT-py-1.2.0/onmt/translate/beam_search.py:209: UserWarning: An output with one or more elements was resized since it had shape [145], which does not match the required output shape [29, 5].This behavior is deprecated, and in a future PyTorch release outputs will not be resized unless they have zero elements. You can explicitly reuse an out tensor t by resizing it, inplace, to zero elements with t.resize_(0). (Triggered internally at  /pytorch/aten/src/ATen/native/Resize.cpp:19.)\n",
            "  torch.mul(self.topk_scores, length_penalty, out=self.topk_log_probs)\n",
            "[2021-02-05 03:07:01,590 INFO] PRED AVG SCORE: -0.2595, PRED PPL: 1.2963\n",
            "[nltk_data] Downloading package punkt to /root/nltk_data...\n",
            "[nltk_data]   Package punkt is already up-to-date!\n",
            "[LINE:417]# INFO     [2021-02-05 03:07:02,854]  Source: /content/drive/MyDrive/Simplification/BenchmarkDatasets/test/NisioiTest.orig\n",
            "[LINE:419]# INFO     [2021-02-05 03:07:02,854]  References in tsv format: /content/drive/MyDrive/Simplification/BenchmarkDatasets/test/Nisioi_refs.tsv\n",
            "[LINE:421]# INFO     [2021-02-05 03:07:02,855]  Path of predictions: /content/drive/MyDrive/Simplification/BenchmarkDatasets/TmpData/Nisioi_pred.txt\n",
            "[LINE:384]# INFO     [2021-02-05 03:07:02,871]  Processing Nisioi_pred.txt_h1\n",
            "[LINE:386]# INFO     [2021-02-05 03:07:03,164]  Done 32.15264367686787\n",
            "[LINE:384]# INFO     [2021-02-05 03:07:03,164]  Processing Nisioi_pred.txt_h2\n",
            "[LINE:386]# INFO     [2021-02-05 03:07:03,463]  Done 37.00175073593468\n",
            "[LINE:384]# INFO     [2021-02-05 03:07:03,463]  Processing Nisioi_pred.txt_h3\n",
            "[LINE:386]# INFO     [2021-02-05 03:07:03,765]  Done 38.11084170066123\n",
            "[LINE:384]# INFO     [2021-02-05 03:07:03,765]  Processing Nisioi_pred.txt_h4\n",
            "[LINE:386]# INFO     [2021-02-05 03:07:04,064]  Done 37.801060002409024\n",
            "[LINE:384]# INFO     [2021-02-05 03:07:04,064]  Processing Nisioi_pred.txt_h1\n",
            "[LINE:386]# INFO     [2021-02-05 03:07:04,828]  Done 85.81726444262671\n",
            "[LINE:384]# INFO     [2021-02-05 03:07:04,828]  Processing Nisioi_pred.txt_h2\n",
            "[LINE:386]# INFO     [2021-02-05 03:07:05,579]  Done 82.26782566543795\n",
            "[LINE:384]# INFO     [2021-02-05 03:07:05,579]  Processing Nisioi_pred.txt_h3\n",
            "[LINE:386]# INFO     [2021-02-05 03:07:06,340]  Done 82.43558061171119\n",
            "[LINE:384]# INFO     [2021-02-05 03:07:06,340]  Processing Nisioi_pred.txt_h4\n",
            "[LINE:386]# INFO     [2021-02-05 03:07:07,132]  Done 82.24832287520273\n",
            "SARI : [('Nisioi_pred.txt_h3', 38.11084170066123), ('Nisioi_pred.txt_h4', 37.801060002409024), ('Nisioi_pred.txt_h2', 37.00175073593468), ('Nisioi_pred.txt_h1', 32.15264367686787)]\n",
            "BLEU : [('Nisioi_pred.txt_h1', 85.81726444262671), ('Nisioi_pred.txt_h3', 82.43558061171119), ('Nisioi_pred.txt_h2', 82.26782566543795), ('Nisioi_pred.txt_h4', 82.24832287520273)]\n"
          ],
          "name": "stdout"
        }
      ]
    },
    {
      "cell_type": "code",
      "metadata": {
        "id": "IfOqHRfbKiQX"
      },
      "source": [
        ""
      ],
      "execution_count": null,
      "outputs": []
    },
    {
      "cell_type": "code",
      "metadata": {
        "colab": {
          "base_uri": "https://localhost:8080/"
        },
        "id": "pfcncChzHGVM",
        "outputId": "5a0b6689-1826-4a6c-8ede-091db7b47446"
      },
      "source": [
        "!python /content/drive/MyDrive/Simplification/BenchmarkDatasets/OpenNMT-py-1.2.0/translate.py \\\r\n",
        "-model $model_name_path \\\r\n",
        "-src $AssetTest_orig_path \\\r\n",
        "-output $AssetTest_pred_path \\\r\n",
        "-n_best 4 -beam_size 5 -replace_unk -gpu 0 \r\n",
        "\r\n",
        "!python /content/drive/MyDrive/Simplification/BenchmarkDatasets/evaluate.py  $AssetTest_orig_path $AssetTest_refs_path $AssetTest_pred_path $4"
      ],
      "execution_count": 14,
      "outputs": [
        {
          "output_type": "stream",
          "text": [
            "/content/drive/MyDrive/Simplification/BenchmarkDatasets/OpenNMT-py-1.2.0/onmt/modules/embeddings.py:218: UserWarning: Not merging with sum and positive feat_vec_size, but got non-default feat_vec_exponent. It will be unused.\n",
            "  warnings.warn(\"Not merging with sum and positive \"\n",
            "[2021-02-05 03:02:00,294 INFO] Translating shard 0.\n",
            "/content/drive/MyDrive/Simplification/BenchmarkDatasets/OpenNMT-py-1.2.0/onmt/translate/beam_search.py:209: UserWarning: An output with one or more elements was resized since it had shape [150], which does not match the required output shape [30, 5].This behavior is deprecated, and in a future PyTorch release outputs will not be resized unless they have zero elements. You can explicitly reuse an out tensor t by resizing it, inplace, to zero elements with t.resize_(0). (Triggered internally at  /pytorch/aten/src/ATen/native/Resize.cpp:19.)\n",
            "  torch.mul(self.topk_scores, length_penalty, out=self.topk_log_probs)\n",
            "/content/drive/MyDrive/Simplification/BenchmarkDatasets/OpenNMT-py-1.2.0/onmt/translate/beam_search.py:209: UserWarning: An output with one or more elements was resized since it had shape [145], which does not match the required output shape [29, 5].This behavior is deprecated, and in a future PyTorch release outputs will not be resized unless they have zero elements. You can explicitly reuse an out tensor t by resizing it, inplace, to zero elements with t.resize_(0). (Triggered internally at  /pytorch/aten/src/ATen/native/Resize.cpp:19.)\n",
            "  torch.mul(self.topk_scores, length_penalty, out=self.topk_log_probs)\n",
            "[2021-02-05 03:02:13,424 INFO] PRED AVG SCORE: -0.3337, PRED PPL: 1.3961\n",
            "[nltk_data] Downloading package punkt to /root/nltk_data...\n",
            "[nltk_data]   Package punkt is already up-to-date!\n",
            "[LINE:417]# INFO     [2021-02-05 03:02:14,751]  Source: /content/drive/MyDrive/Simplification/BenchmarkDatasets/test/AssetTest.orig\n",
            "[LINE:419]# INFO     [2021-02-05 03:02:14,751]  References in tsv format: /content/drive/MyDrive/Simplification/BenchmarkDatasets/test/Asset_Refs.tsv\n",
            "[LINE:421]# INFO     [2021-02-05 03:02:14,752]  Path of predictions: /content/drive/MyDrive/Simplification/BenchmarkDatasets/TmpData/Asset_pred.txt\n",
            "[LINE:384]# INFO     [2021-02-05 03:02:15,970]  Processing Asset_pred.txt_h1\n",
            "[LINE:386]# INFO     [2021-02-05 03:02:16,663]  Done 28.527044316320904\n",
            "[LINE:384]# INFO     [2021-02-05 03:02:16,664]  Processing Asset_pred.txt_h2\n",
            "[LINE:386]# INFO     [2021-02-05 03:02:16,955]  Done 29.71566118607984\n",
            "[LINE:384]# INFO     [2021-02-05 03:02:16,955]  Processing Asset_pred.txt_h3\n",
            "[LINE:386]# INFO     [2021-02-05 03:02:17,248]  Done 30.61897649402231\n",
            "[LINE:384]# INFO     [2021-02-05 03:02:17,248]  Processing Asset_pred.txt_h4\n",
            "[LINE:386]# INFO     [2021-02-05 03:02:17,556]  Done 29.765288429069862\n",
            "[LINE:384]# INFO     [2021-02-05 03:02:17,557]  Processing Asset_pred.txt_h1\n",
            "[LINE:386]# INFO     [2021-02-05 03:02:18,589]  Done 34.03236370508818\n",
            "[LINE:384]# INFO     [2021-02-05 03:02:18,589]  Processing Asset_pred.txt_h2\n",
            "[LINE:386]# INFO     [2021-02-05 03:02:19,662]  Done 29.046556122835916\n",
            "[LINE:384]# INFO     [2021-02-05 03:02:19,662]  Processing Asset_pred.txt_h3\n",
            "[LINE:386]# INFO     [2021-02-05 03:02:20,762]  Done 26.84388534625548\n",
            "[LINE:384]# INFO     [2021-02-05 03:02:20,762]  Processing Asset_pred.txt_h4\n",
            "[LINE:386]# INFO     [2021-02-05 03:02:21,917]  Done 24.749522127765903\n",
            "SARI : [('Asset_pred.txt_h3', 30.61897649402231), ('Asset_pred.txt_h4', 29.765288429069862), ('Asset_pred.txt_h2', 29.71566118607984), ('Asset_pred.txt_h1', 28.527044316320904)]\n",
            "BLEU : [('Asset_pred.txt_h1', 34.03236370508818), ('Asset_pred.txt_h2', 29.046556122835916), ('Asset_pred.txt_h3', 26.84388534625548), ('Asset_pred.txt_h4', 24.749522127765903)]\n"
          ],
          "name": "stdout"
        }
      ]
    },
    {
      "cell_type": "code",
      "metadata": {
        "colab": {
          "base_uri": "https://localhost:8080/"
        },
        "id": "KIxhOcv0HGSz",
        "outputId": "42d1e52f-6437-4a8d-c5b4-69b2f15c7d77"
      },
      "source": [
        "!python /content/drive/MyDrive/Simplification/BenchmarkDatasets/OpenNMT-py-1.2.0/translate.py \\\r\n",
        "-model $model_name_path \\\r\n",
        "-src $EasseTest_orig_path \\\r\n",
        "-output $EasseTest_pred_path \\\r\n",
        "-n_best 4 -beam_size 5 -replace_unk -gpu 0 \r\n",
        "\r\n",
        "!python /content/drive/MyDrive/Simplification/BenchmarkDatasets/evaluate.py  $EasseTest_orig_path $EasseTest_refs_path $EasseTest_pred_path $5"
      ],
      "execution_count": 16,
      "outputs": [
        {
          "output_type": "stream",
          "text": [
            "/content/drive/MyDrive/Simplification/BenchmarkDatasets/OpenNMT-py-1.2.0/onmt/modules/embeddings.py:218: UserWarning: Not merging with sum and positive feat_vec_size, but got non-default feat_vec_exponent. It will be unused.\n",
            "  warnings.warn(\"Not merging with sum and positive \"\n",
            "[2021-02-05 03:03:34,190 INFO] Translating shard 0.\n",
            "/content/drive/MyDrive/Simplification/BenchmarkDatasets/OpenNMT-py-1.2.0/onmt/translate/beam_search.py:209: UserWarning: An output with one or more elements was resized since it had shape [360], which does not match the required output shape [30, 12].This behavior is deprecated, and in a future PyTorch release outputs will not be resized unless they have zero elements. You can explicitly reuse an out tensor t by resizing it, inplace, to zero elements with t.resize_(0). (Triggered internally at  /pytorch/aten/src/ATen/native/Resize.cpp:19.)\n",
            "  torch.mul(self.topk_scores, length_penalty, out=self.topk_log_probs)\n",
            "/content/drive/MyDrive/Simplification/BenchmarkDatasets/OpenNMT-py-1.2.0/onmt/translate/beam_search.py:209: UserWarning: An output with one or more elements was resized since it had shape [348], which does not match the required output shape [29, 12].This behavior is deprecated, and in a future PyTorch release outputs will not be resized unless they have zero elements. You can explicitly reuse an out tensor t by resizing it, inplace, to zero elements with t.resize_(0). (Triggered internally at  /pytorch/aten/src/ATen/native/Resize.cpp:19.)\n",
            "  torch.mul(self.topk_scores, length_penalty, out=self.topk_log_probs)\n",
            "[2021-02-05 03:03:56,546 INFO] PRED AVG SCORE: -0.3299, PRED PPL: 1.3909\n",
            "[nltk_data] Downloading package punkt to /root/nltk_data...\n",
            "[nltk_data]   Package punkt is already up-to-date!\n",
            "[LINE:417]# INFO     [2021-02-05 03:03:57,840]  Source: /content/drive/MyDrive/Simplification/BenchmarkDatasets/test/EasseTest.orig\n",
            "[LINE:419]# INFO     [2021-02-05 03:03:57,840]  References in tsv format: /content/drive/MyDrive/Simplification/BenchmarkDatasets/test/Easse_Refs.tsv\n",
            "[LINE:421]# INFO     [2021-02-05 03:03:57,840]  Path of predictions: /content/drive/MyDrive/Simplification/BenchmarkDatasets/TmpData/Easse_pred.txt\n",
            "[LINE:384]# INFO     [2021-02-05 03:03:58,243]  Processing Easse_pred.txt_h1\n",
            "[LINE:386]# INFO     [2021-02-05 03:03:58,496]  Done 29.323887233294105\n",
            "[LINE:384]# INFO     [2021-02-05 03:03:58,496]  Processing Easse_pred.txt_h2\n",
            "[LINE:386]# INFO     [2021-02-05 03:03:58,766]  Done 31.04045783817953\n",
            "[LINE:384]# INFO     [2021-02-05 03:03:58,766]  Processing Easse_pred.txt_h3\n",
            "[LINE:386]# INFO     [2021-02-05 03:03:59,033]  Done 32.23685312072958\n",
            "[LINE:384]# INFO     [2021-02-05 03:03:59,033]  Processing Easse_pred.txt_h4\n",
            "[LINE:386]# INFO     [2021-02-05 03:03:59,302]  Done 32.720963261646595\n",
            "[LINE:384]# INFO     [2021-02-05 03:03:59,302]  Processing Easse_pred.txt_h5\n",
            "[LINE:386]# INFO     [2021-02-05 03:03:59,571]  Done 32.90597996774829\n",
            "[LINE:384]# INFO     [2021-02-05 03:03:59,571]  Processing Easse_pred.txt_h1\n",
            "[LINE:386]# INFO     [2021-02-05 03:04:00,370]  Done 48.51830811653816\n",
            "[LINE:384]# INFO     [2021-02-05 03:04:00,371]  Processing Easse_pred.txt_h2\n",
            "[LINE:386]# INFO     [2021-02-05 03:04:01,190]  Done 40.915440365265965\n",
            "[LINE:384]# INFO     [2021-02-05 03:04:01,190]  Processing Easse_pred.txt_h3\n",
            "[LINE:386]# INFO     [2021-02-05 03:04:02,038]  Done 38.29295929608037\n",
            "[LINE:384]# INFO     [2021-02-05 03:04:02,039]  Processing Easse_pred.txt_h4\n",
            "[LINE:386]# INFO     [2021-02-05 03:04:02,920]  Done 35.441167694522285\n",
            "[LINE:384]# INFO     [2021-02-05 03:04:02,920]  Processing Easse_pred.txt_h5\n",
            "[LINE:386]# INFO     [2021-02-05 03:04:03,834]  Done 34.47235851829344\n",
            "SARI : [('Easse_pred.txt_h5', 32.90597996774829), ('Easse_pred.txt_h4', 32.720963261646595), ('Easse_pred.txt_h3', 32.23685312072958), ('Easse_pred.txt_h2', 31.04045783817953), ('Easse_pred.txt_h1', 29.323887233294105)]\n",
            "BLEU : [('Easse_pred.txt_h1', 48.51830811653816), ('Easse_pred.txt_h2', 40.915440365265965), ('Easse_pred.txt_h3', 38.29295929608037), ('Easse_pred.txt_h4', 35.441167694522285), ('Easse_pred.txt_h5', 34.47235851829344)]\n"
          ],
          "name": "stdout"
        }
      ]
    },
    {
      "cell_type": "code",
      "metadata": {
        "id": "EqIOeTD6HGQQ"
      },
      "source": [
        ""
      ],
      "execution_count": null,
      "outputs": []
    },
    {
      "cell_type": "code",
      "metadata": {
        "id": "BANMZCLvHGNN"
      },
      "source": [
        ""
      ],
      "execution_count": null,
      "outputs": []
    },
    {
      "cell_type": "code",
      "metadata": {
        "id": "vrIAOz4FHGKT"
      },
      "source": [
        ""
      ],
      "execution_count": null,
      "outputs": []
    },
    {
      "cell_type": "code",
      "metadata": {
        "id": "3y2WUNYwHGHb"
      },
      "source": [
        ""
      ],
      "execution_count": null,
      "outputs": []
    },
    {
      "cell_type": "code",
      "metadata": {
        "id": "Wv_dF7ibHGEE"
      },
      "source": [
        ""
      ],
      "execution_count": null,
      "outputs": []
    },
    {
      "cell_type": "code",
      "metadata": {
        "id": "aBl_Gt4fMlK7",
        "colab": {
          "base_uri": "https://localhost:8080/"
        },
        "outputId": "3e8d95a6-a64f-499b-c9e2-679861501f24"
      },
      "source": [
        "!python '/content/drive/MyDrive/Simplification/SARI_org.py' -c '/content/drive/MyDrive/Simplification/BenchmarkDatasets/test/NisioiTest.orig' \\\r\n",
        "-r '/content/drive/MyDrive/Simplification/BenchmarkDatasets/test/TestRefs' \\\r\n",
        "-s '/content/drive/MyDrive/Simplification/BenchmarkDatasets/TmpData/Nisioi_pred.txt_h2'"
      ],
      "execution_count": 17,
      "outputs": [
        {
          "output_type": "stream",
          "text": [
            "SARI score: 0.37854997711960364\n"
          ],
          "name": "stdout"
        }
      ]
    },
    {
      "cell_type": "code",
      "metadata": {
        "id": "7rxBJ1hg_50E",
        "colab": {
          "base_uri": "https://localhost:8080/"
        },
        "outputId": "b62b6268-e4c3-4207-95c9-492dcfdc48fe"
      },
      "source": [
        "!python '/content/drive/MyDrive/Simplification/SARI_org.py' -c '/content/drive/MyDrive/Simplification/BenchmarkDatasets/test/AssetTest.orig' \\\r\n",
        "-r '/content/drive/MyDrive/Simplification/BenchmarkDatasets/test/AssetRefs' \\\r\n",
        "-s '/content/drive/MyDrive/Simplification/BenchmarkDatasets/TmpData/Asset_pred.txt_h3'"
      ],
      "execution_count": 19,
      "outputs": [
        {
          "output_type": "stream",
          "text": [
            "SARI score: 0.30618976494022326\n"
          ],
          "name": "stdout"
        }
      ]
    },
    {
      "cell_type": "code",
      "metadata": {
        "id": "J2pdU_8zJj3O"
      },
      "source": [
        "!python '/content/drive/MyDrive/Simplification/SARI_org.py' -c '/content/drive/MyDrive/Simplification/BenchmarkDatasets/test/EasseTest.orig' \\\r\n",
        "-r '/content/drive/MyDrive/Simplification/BenchmarkDatasets/test/EasseRefs' \\\r\n",
        "-s '/content/drive/MyDrive/Simplification/BenchmarkDatasets/TmpData/Easse_pred.txt_h3'"
      ],
      "execution_count": null,
      "outputs": []
    },
    {
      "cell_type": "code",
      "metadata": {
        "id": "vlRBSPPtJjvX"
      },
      "source": [
        ""
      ],
      "execution_count": null,
      "outputs": []
    },
    {
      "cell_type": "code",
      "metadata": {
        "id": "_bzIOmPjChn8"
      },
      "source": [
        ""
      ],
      "execution_count": null,
      "outputs": []
    }
  ]
}