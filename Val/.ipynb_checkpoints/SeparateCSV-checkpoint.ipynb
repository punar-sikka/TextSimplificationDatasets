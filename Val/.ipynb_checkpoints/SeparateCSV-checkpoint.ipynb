{
 "cells": [
  {
   "cell_type": "code",
   "execution_count": 1,
   "metadata": {},
   "outputs": [],
   "source": [
    "import pandas as pd"
   ]
  },
  {
   "cell_type": "code",
   "execution_count": 2,
   "metadata": {},
   "outputs": [
    {
     "data": {
      "text/html": [
       "<div>\n",
       "<style scoped>\n",
       "    .dataframe tbody tr th:only-of-type {\n",
       "        vertical-align: middle;\n",
       "    }\n",
       "\n",
       "    .dataframe tbody tr th {\n",
       "        vertical-align: top;\n",
       "    }\n",
       "\n",
       "    .dataframe thead th {\n",
       "        text-align: right;\n",
       "    }\n",
       "</style>\n",
       "<table border=\"1\" class=\"dataframe\">\n",
       "  <thead>\n",
       "    <tr style=\"text-align: right;\">\n",
       "      <th></th>\n",
       "      <th>Original</th>\n",
       "      <th>Simplified</th>\n",
       "    </tr>\n",
       "  </thead>\n",
       "  <tbody>\n",
       "    <tr>\n",
       "      <th>0</th>\n",
       "      <td>A special Meowth card was available with purch...</td>\n",
       "      <td>A special Meowth card was given when buying th...</td>\n",
       "    </tr>\n",
       "    <tr>\n",
       "      <th>1</th>\n",
       "      <td>Christ Church is a joint foundation of the col...</td>\n",
       "      <td>As well as being a college , Christ Church is ...</td>\n",
       "    </tr>\n",
       "    <tr>\n",
       "      <th>2</th>\n",
       "      <td>Lloris conceded only 24 goals in his 30 appear...</td>\n",
       "      <td>He gave up only 24 goals and recorded 13 clean...</td>\n",
       "    </tr>\n",
       "    <tr>\n",
       "      <th>3</th>\n",
       "      <td>The following is a list of organists recorded ...</td>\n",
       "      <td>The Cathedral was refounded with a Chapter of ...</td>\n",
       "    </tr>\n",
       "    <tr>\n",
       "      <th>4</th>\n",
       "      <td>Ste ́ phane Houdet / Stefan Olsson defeated Ma...</td>\n",
       "      <td>Stephane Houdet / Stefan Olsson beat Maikel Sc...</td>\n",
       "    </tr>\n",
       "  </tbody>\n",
       "</table>\n",
       "</div>"
      ],
      "text/plain": [
       "                                            Original  \\\n",
       "0  A special Meowth card was available with purch...   \n",
       "1  Christ Church is a joint foundation of the col...   \n",
       "2  Lloris conceded only 24 goals in his 30 appear...   \n",
       "3  The following is a list of organists recorded ...   \n",
       "4  Ste ́ phane Houdet / Stefan Olsson defeated Ma...   \n",
       "\n",
       "                                          Simplified  \n",
       "0  A special Meowth card was given when buying th...  \n",
       "1  As well as being a college , Christ Church is ...  \n",
       "2  He gave up only 24 goals and recorded 13 clean...  \n",
       "3  The Cathedral was refounded with a Chapter of ...  \n",
       "4  Stephane Houdet / Stefan Olsson beat Maikel Sc...  "
      ]
     },
     "execution_count": 2,
     "metadata": {},
     "output_type": "execute_result"
    }
   ],
   "source": [
    "df = pd.read_csv('new_wiki_val.csv')\n",
    "df.head()"
   ]
  },
  {
   "cell_type": "code",
   "execution_count": 3,
   "metadata": {},
   "outputs": [
    {
     "data": {
      "text/plain": [
       "0        A special Meowth card was available with purch...\n",
       "1        Christ Church is a joint foundation of the col...\n",
       "2        Lloris conceded only 24 goals in his 30 appear...\n",
       "3        The following is a list of organists recorded ...\n",
       "4        Ste ́ phane Houdet / Stefan Olsson defeated Ma...\n",
       "                               ...                        \n",
       "48829    She became the first woman at NSA to be promot...\n",
       "48830    Snow may lie from more than a month to 105 day...\n",
       "48831    By 1841 , Deere was manufacturing 75 – 100 plo...\n",
       "48832    The area hosts a large equestrian community , ...\n",
       "48833    The new flag is a horizontal tricolor flag of ...\n",
       "Name: Original, Length: 48834, dtype: object"
      ]
     },
     "execution_count": 3,
     "metadata": {},
     "output_type": "execute_result"
    }
   ],
   "source": [
    "\n",
    "df['Original']"
   ]
  },
  {
   "cell_type": "code",
   "execution_count": 7,
   "metadata": {},
   "outputs": [],
   "source": [
    "outSrcFile = open('NewWikiVal_src.txt', \"w\", encoding='utf-8')\n",
    "outSrcFile.writelines(df['Original'] + '\\n')\n",
    "outSrcFile.close()\n",
    "outTgtFile = open('NewWikiVal_tgt.txt', \"w\", encoding='utf-8')\n",
    "outTgtFile.writelines(df['Simplified']+ '\\n')\n",
    "outTgtFile.close()"
   ]
  },
  {
   "cell_type": "code",
   "execution_count": null,
   "metadata": {},
   "outputs": [],
   "source": []
  }
 ],
 "metadata": {
  "kernelspec": {
   "display_name": "Python 3",
   "language": "python",
   "name": "python3"
  },
  "language_info": {
   "codemirror_mode": {
    "name": "ipython",
    "version": 3
   },
   "file_extension": ".py",
   "mimetype": "text/x-python",
   "name": "python",
   "nbconvert_exporter": "python",
   "pygments_lexer": "ipython3",
   "version": "3.8.3"
  }
 },
 "nbformat": 4,
 "nbformat_minor": 4
}
