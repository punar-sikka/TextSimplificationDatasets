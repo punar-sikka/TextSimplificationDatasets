{
 "cells": [
  {
   "cell_type": "code",
   "execution_count": 22,
   "metadata": {},
   "outputs": [],
   "source": [
    "import glob\n",
    "files = glob.glob(\"EasseRefs/*\")\n",
    "fileLines = []\n",
    "for f in files:\n",
    "    fileLines.append([line.rstrip('\\n') for line in open(f)])"
   ]
  },
  {
   "cell_type": "code",
   "execution_count": 23,
   "metadata": {},
   "outputs": [],
   "source": [
    "outLines = []\n",
    "\n",
    "for l in range(len(fileLines[0])):\n",
    "    tmpLine = fileLines[0][l]\n",
    "    for f in range(1, len(files)):\n",
    "        tmpLine = tmpLine + '\\t' + fileLines[f][l]\n",
    "    tmpLine = tmpLine + '\\n'\n",
    "    outLines.append(tmpLine)"
   ]
  },
  {
   "cell_type": "code",
   "execution_count": 24,
   "metadata": {},
   "outputs": [],
   "source": [
    "outRefsFile = open('Easse_Refs.tsv', \"w\")\n",
    "outRefsFile.writelines(outLines)\n",
    "outRefsFile.close()"
   ]
  },
  {
   "cell_type": "code",
   "execution_count": null,
   "metadata": {},
   "outputs": [],
   "source": []
  }
 ],
 "metadata": {
  "kernelspec": {
   "display_name": "Python 3",
   "language": "python",
   "name": "python3"
  },
  "language_info": {
   "codemirror_mode": {
    "name": "ipython",
    "version": 3
   },
   "file_extension": ".py",
   "mimetype": "text/x-python",
   "name": "python",
   "nbconvert_exporter": "python",
   "pygments_lexer": "ipython3",
   "version": "3.8.3"
  }
 },
 "nbformat": 4,
 "nbformat_minor": 4
}
