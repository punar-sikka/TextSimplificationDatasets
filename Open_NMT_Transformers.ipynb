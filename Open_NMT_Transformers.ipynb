{
  "nbformat": 4,
  "nbformat_minor": 0,
  "metadata": {
    "accelerator": "GPU",
    "colab": {
      "name": "Open-NMT-Transformers.ipynb",
      "provenance": [],
      "collapsed_sections": []
    },
    "kernelspec": {
      "display_name": "Python 3",
      "name": "python3"
    }
  },
  "cells": [
    {
      "cell_type": "code",
      "metadata": {
        "id": "C_PquC10jwtO"
      },
      "source": [
        "from google.colab import drive\n",
        "drive.mount('/content/drive')"
      ],
      "execution_count": null,
      "outputs": []
    },
    {
      "cell_type": "code",
      "metadata": {
        "id": "x3rOIxr95zhF"
      },
      "source": [
        "cd /content/drive/MyDrive/Simplification/BenchmarkDatasets/OpenNMT-py-1.2.0"
      ],
      "execution_count": null,
      "outputs": []
    },
    {
      "cell_type": "code",
      "metadata": {
        "id": "ROFOlz5IjbdN"
      },
      "source": [
        "!pip install -qq -e .\r\n",
        "!pip install -qq textstat\r\n",
        "!pip install -qq python-Levenshtein"
      ],
      "execution_count": null,
      "outputs": []
    },
    {
      "cell_type": "code",
      "metadata": {
        "id": "3Y0CwA15ek8E"
      },
      "source": [
        "#fixed paths\r\n",
        "save_data_path = '/content/drive/MyDrive/Simplification/BenchmarkDatasets/TmpData/transformer_data'\r\n",
        "model_save_path = '/content/drive/MyDrive/Simplification/BenchmarkDatasets/Models/transformer'\r\n",
        "\r\n",
        "NisioiTest_orig_path = '/content/drive/MyDrive/Simplification/BenchmarkDatasets/test/NisioiTest.orig'\r\n",
        "NisioiTest_refs_path = '/content/drive/MyDrive/Simplification/BenchmarkDatasets/test/Nisioi_refs.tsv'\r\n",
        "NisioiTest_pred_path = '/content/drive/MyDrive/Simplification/BenchmarkDatasets/TmpData/Nisioi_pred.txt'\r\n",
        "\r\n",
        "AssetTest_orig_path = '/content/drive/MyDrive/Simplification/BenchmarkDatasets/test/AssetTest.orig'\r\n",
        "AssetTest_refs_path = '/content/drive/MyDrive/Simplification/BenchmarkDatasets/test/Asset_Refs.tsv'\r\n",
        "AssetTest_pred_path = '/content/drive/MyDrive/Simplification/BenchmarkDatasets/TmpData/Asset_pred.txt'\r\n",
        "\r\n",
        "EasseTest_orig_path = '/content/drive/MyDrive/Simplification/BenchmarkDatasets/test/EasseTest.orig'\r\n",
        "EasseTest_refs_path = '/content/drive/MyDrive/Simplification/BenchmarkDatasets/test/Easse_Refs.tsv'\r\n",
        "EasseTest_pred_path = '/content/drive/MyDrive/Simplification/BenchmarkDatasets/TmpData/Easse_pred.txt'"
      ],
      "execution_count": null,
      "outputs": []
    },
    {
      "cell_type": "code",
      "metadata": {
        "id": "--phdWDxek4Z"
      },
      "source": [
        "train_src_path = '/content/drive/MyDrive/Simplification/BenchmarkDatasets/Train/OurNewselaClean-0.7_src.txt'\r\n",
        "train_tgt_path = '/content/drive/MyDrive/Simplification/BenchmarkDatasets/Train/OurNewselaClean-0.7_tgt.txt'\r\n",
        "val_src_path = '/content/drive/MyDrive/Simplification/BenchmarkDatasets/Val/NewWikiVal_src.txt'\r\n",
        "val_tgt_path = '/content/drive/MyDrive/Simplification/BenchmarkDatasets/Val/NewWikiVal_tgt.txt'"
      ],
      "execution_count": null,
      "outputs": []
    },
    {
      "cell_type": "code",
      "metadata": {
        "id": "GGn66TmMevz4"
      },
      "source": [
        ""
      ],
      "execution_count": null,
      "outputs": []
    },
    {
      "cell_type": "code",
      "metadata": {
        "id": "KwAv4PAOevo9"
      },
      "source": [
        "!python  /content/drive/MyDrive/Simplification/BenchmarkDatasets/OpenNMT-py-1.2.0/preprocess.py \\\r\n",
        "-train_src $train_src_path \\\r\n",
        "-train_tgt $train_tgt_path  \\\r\n",
        "-valid_src $val_src_path \\\r\n",
        "-valid_tgt $val_tgt_path \\\r\n",
        "-src_vocab_size 50000  -tgt_vocab_size 50000 -src_seq_length 150 -tgt_seq_length 150  \\\r\n",
        "-share_vocab -save_data $save_data_path -overwrite"
      ],
      "execution_count": null,
      "outputs": []
    },
    {
      "cell_type": "code",
      "metadata": {
        "id": "Gb-AVIZ_ek1J"
      },
      "source": [
        "!python /content/drive/MyDrive/Simplification/BenchmarkDatasets/OpenNMT-py-1.2.0/train.py \\\r\n",
        "-data $save_data_path \\\r\n",
        "-save_model $model_save_path \\\r\n",
        "-layers 2  -rnn_size 512 -word_vec_size 512 -transformer_ff 2048 -heads 4 \\\r\n",
        "-encoder_type transformer -decoder_type transformer -position_encoding -early_stopping 2 \\\r\n",
        "-param_init_glorot -max_generator_batches 2 -dropout 0.1 -batch_size 2048 \\\r\n",
        "-batch_type tokens -normalization tokens -accum_count 2 -optim adam -adam_beta2 0.998 \\\r\n",
        "-decay_method noam  -learning_rate 2 -max_grad_norm 0 -param_init 0 -label_smoothing 0.1 \\\r\n",
        " -gpu_ranks 0 -warmup_steps 10000 -valid_steps 5000 -save_checkpoint_steps 10000 -train_steps 50000"
      ],
      "execution_count": null,
      "outputs": []
    },
    {
      "cell_type": "code",
      "metadata": {
        "id": "Dl3upo3zJCZl"
      },
      "source": [
        ""
      ],
      "execution_count": null,
      "outputs": []
    },
    {
      "cell_type": "code",
      "metadata": {
        "id": "c9-u0NuJ7DRf"
      },
      "source": [
        "#edit after model has been trained\r\n",
        "model_name_path = '/content/drive/MyDrive/Simplification/BenchmarkDatasets/Models/transformer_step_50000.pt'"
      ],
      "execution_count": null,
      "outputs": []
    },
    {
      "cell_type": "code",
      "metadata": {
        "id": "gefCyU2ifagD"
      },
      "source": [
        "!python /content/drive/MyDrive/Simplification/BenchmarkDatasets/OpenNMT-py-1.2.0/translate.py \\\r\n",
        "-model $model_name_path \\\r\n",
        "-src $NisioiTest_orig_path \\\r\n",
        "-output $NisioiTest_pred_path \\\r\n",
        "-n_best 4 -beam_size 5 -replace_unk -gpu 0 \r\n",
        "\r\n",
        "!python /content/drive/MyDrive/Simplification/BenchmarkDatasets/evaluate.py  $NisioiTest_orig_path $NisioiTest_refs_path $NisioiTest_pred_path $4"
      ],
      "execution_count": null,
      "outputs": []
    },
    {
      "cell_type": "code",
      "metadata": {
        "id": "pdGNNfgkfaZR"
      },
      "source": [
        "!python /content/drive/MyDrive/Simplification/BenchmarkDatasets/OpenNMT-py-1.2.0/translate.py \\\r\n",
        "-model $model_name_path \\\r\n",
        "-src $AssetTest_orig_path \\\r\n",
        "-output $AssetTest_pred_path \\\r\n",
        "-n_best 4 -beam_size 5 -replace_unk -gpu 0 \r\n",
        "\r\n",
        "!python /content/drive/MyDrive/Simplification/BenchmarkDatasets/evaluate.py  $AssetTest_orig_path $AssetTest_refs_path $AssetTest_pred_path $4"
      ],
      "execution_count": null,
      "outputs": []
    },
    {
      "cell_type": "code",
      "metadata": {
        "id": "f-MaE6fYfdFq"
      },
      "source": [
        "!python /content/drive/MyDrive/Simplification/BenchmarkDatasets/OpenNMT-py-1.2.0/translate.py \\\r\n",
        "-model $model_name_path \\\r\n",
        "-src $EasseTest_orig_path \\\r\n",
        "-output $EasseTest_pred_path \\\r\n",
        "-n_best 4 -beam_size 5 -replace_unk -gpu 0 \r\n",
        "\r\n",
        "!python /content/drive/MyDrive/Simplification/BenchmarkDatasets/evaluate.py  $EasseTest_orig_path $EasseTest_refs_path $EasseTest_pred_path $4"
      ],
      "execution_count": null,
      "outputs": []
    },
    {
      "cell_type": "code",
      "metadata": {
        "id": "BmY_d6O9fdB4"
      },
      "source": [
        ""
      ],
      "execution_count": null,
      "outputs": []
    },
    {
      "cell_type": "code",
      "metadata": {
        "id": "UDCzVkCrfc8Y"
      },
      "source": [
        ""
      ],
      "execution_count": null,
      "outputs": []
    },
    {
      "cell_type": "code",
      "metadata": {
        "id": "q_JZ0SNS8w_C"
      },
      "source": [
        "!python '/content/drive/MyDrive/Simplification/SARI_org.py' -c '/content/drive/MyDrive/Simplification/BenchmarkDatasets/test/NisioiTest.orig' \\\r\n",
        "-r '/content/drive/MyDrive/Simplification/BenchmarkDatasets/test/TestRefs' \\\r\n",
        "-s '/content/drive/MyDrive/Simplification/BenchmarkDatasets/TmpData/Nisioi_pred.txt_h2'"
      ],
      "execution_count": null,
      "outputs": []
    },
    {
      "cell_type": "code",
      "metadata": {
        "id": "Eh_P6jb4TIR6"
      },
      "source": [
        "!python '/content/drive/MyDrive/Simplification/SARI_org.py' -c '/content/drive/MyDrive/Simplification/BenchmarkDatasets/test/AssetTest.orig' \\\r\n",
        "-r '/content/drive/MyDrive/Simplification/BenchmarkDatasets/test/AssetRefs' \\\r\n",
        "-s '/content/drive/MyDrive/Simplification/BenchmarkDatasets/TmpData/Asset_pred.txt_h3'"
      ],
      "execution_count": null,
      "outputs": []
    },
    {
      "cell_type": "code",
      "metadata": {
        "id": "nRxceSEffnTQ"
      },
      "source": [
        "!python '/content/drive/MyDrive/Simplification/SARI_org.py' -c '/content/drive/MyDrive/Simplification/BenchmarkDatasets/test/EasseTest.orig' \\\r\n",
        "-r '/content/drive/MyDrive/Simplification/BenchmarkDatasets/test/EasseRefs' \\\r\n",
        "-s '/content/drive/MyDrive/Simplification/BenchmarkDatasets/TmpData/Easse_pred.txt_h3'"
      ],
      "execution_count": null,
      "outputs": []
    }
  ]
}